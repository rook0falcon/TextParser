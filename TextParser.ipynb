{
 "cells": [
  {
   "cell_type": "markdown",
   "metadata": {},
   "source": [
    "## Assignment ML/AI\n",
    "\n",
    "Candidate: Karthik Kumar Billa <br>\n",
    "EMail: guildbilla@gmail.com"
   ]
  },
  {
   "cell_type": "markdown",
   "metadata": {},
   "source": [
    "**Data**\n",
    "\n",
    "Below represents sample coupon data for a retailer. Each column (tokenized value) is extracted from OfferDetails\n",
    "1. Product - Can be a single value or an array\n",
    "2. FaceValue - The savings on the offer , generally a number\n",
    "3. UOM - Unit of measure, represents the measuring unit for the product"
   ]
  },
  {
   "cell_type": "code",
   "execution_count": 1,
   "metadata": {},
   "outputs": [],
   "source": [
    "import pandas as pd\n",
    "import re\n",
    "import nltk\n",
    "import numpy as np\n",
    "from textblob import TextBlob\n",
    "# nltk.download('punkt')\n",
    "# nltk.download('brown')\n",
    "# nltk.download('averaged_perceptron_tagger')"
   ]
  },
  {
   "cell_type": "code",
   "execution_count": 2,
   "metadata": {
    "scrolled": true
   },
   "outputs": [
    {
     "name": "stdout",
     "output_type": "stream",
     "text": [
      "(886, 1)\n",
      "--------------------------------------------------\n",
      "                                        OfferDetails\n",
      "0  Save $2.00 ONE Downy Liquid Fabric Conditioner...\n",
      "1  Save $2.00 ONE Tide PODS OR Tide Power PODS (e...\n",
      "2  Save $2.00 ONE Tide Laundry Detergent (exclude...\n",
      "3  SAVE $1.00 ON TWO when you buy TWO BOXES (8.9 ...\n",
      "4  $3.00 OFF when you purchase any THREE (3) Pepp...\n",
      "5  SAVE $1.11 when you buy any ONE (1) Familly Si...\n",
      "6  SAVE $1.00 ON TWO when you buy TWO PACKAGES an...\n",
      "7  Save $1.00 on any TWO (2) Sargento® Natural Ch...\n",
      "8  $0.65 OFF On Any ONE (1) Oikos Greek Yogurt Cu...\n",
      "9  $2.00 OFF ONE (1) SMALL bag of Eight O'Clock® ...\n"
     ]
    }
   ],
   "source": [
    "df = pd.read_csv('coupons_ner.csv', names = ['OfferDetails'])\n",
    "print(df.shape)\n",
    "print('-'*50)\n",
    "print(df.head(10))"
   ]
  },
  {
   "cell_type": "markdown",
   "metadata": {},
   "source": [
    "### Exercise 1\n",
    "\n",
    "1. Write a function that takes OfferDetails as input, and returns FaceValue as output\n",
    "2. Run the function against all rows in the attached data and determine function accuracy (Higher the better)\n",
    "\n",
    "*Hint*: For Exercise 1, regex function should do (ensure that all edge cases are taken care of)"
   ]
  },
  {
   "cell_type": "code",
   "execution_count": 3,
   "metadata": {},
   "outputs": [],
   "source": [
    "def FaceVal(x):\n",
    "    l = []\n",
    "    s = x.replace(',',' ').split()\n",
    "    for i in s:\n",
    "        if '$' in i or '¢' in i:\n",
    "            if '¢' in i:\n",
    "                n = i.split('¢')[0]\n",
    "                if n!= '':\n",
    "                    i = str(float(n)/100)\n",
    "                else: i = '0'\n",
    "            i = '.'.join(re.sub('[^A-Za-z0-9]+',' ',i).split())\n",
    "            l.append(i)\n",
    "    if len(l) == 0 or l==['']:\n",
    "        return ''\n",
    "    elif len(l)>=1:\n",
    "        temp = 0\n",
    "        for k in l:\n",
    "            if k !='':\n",
    "                temp+= float((k.split('$')[-1]))\n",
    "        if len(str(temp))==3:\n",
    "            return '$'+str(temp)+'0'\n",
    "        else:\n",
    "            return '$'+str(temp)"
   ]
  },
  {
   "cell_type": "code",
   "execution_count": 4,
   "metadata": {},
   "outputs": [
    {
     "name": "stdout",
     "output_type": "stream",
     "text": [
      " : \n",
      "--------------------------------------------------\n",
      "s : \n",
      "--------------------------------------------------\n",
      "s50 : \n",
      "--------------------------------------------------\n",
      "$$ : \n",
      "--------------------------------------------------\n",
      "¢¢ : $0.00\n",
      "--------------------------------------------------\n",
      "50$ : $50.0\n",
      "--------------------------------------------------\n",
      "¢¢50 : $0.00\n",
      "--------------------------------------------------\n",
      "$2.0 : $2.00\n",
      "--------------------------------------------------\n",
      "$2 50¢ : $2.50\n",
      "--------------------------------------------------\n",
      "$2 50 ¢ : $2.00\n",
      "--------------------------------------------------\n",
      "$2 50 50¢))) : $2.50\n",
      "--------------------------------------------------\n",
      "$2 50 50¢))) $$$$05,.m 50 150¢ : $9.00\n",
      "--------------------------------------------------\n"
     ]
    }
   ],
   "source": [
    "# Test cases\n",
    "c = ['','s', 's50','$$', '¢¢', '50$', '¢¢50', '$2.0','$2 50¢','$2 50 ¢','$2 50 50¢)))', '$2 50 50¢))) $$$$05,.m 50 150¢']\n",
    "for i in c:\n",
    "    print(i,':',FaceVal(i))\n",
    "    print('-'*50)"
   ]
  },
  {
   "cell_type": "markdown",
   "metadata": {},
   "source": [
    "### Comment: These test cases indicate that the FaceVal function is good enough for extracting Face Value from each text."
   ]
  },
  {
   "cell_type": "code",
   "execution_count": 5,
   "metadata": {},
   "outputs": [
    {
     "name": "stdout",
     "output_type": "stream",
     "text": [
      "                                        OfferDetails FaceValue\n",
      "0  Save $2.00 ONE Downy Liquid Fabric Conditioner...     $2.00\n",
      "1  Save $2.00 ONE Tide PODS OR Tide Power PODS (e...     $2.00\n",
      "2  Save $2.00 ONE Tide Laundry Detergent (exclude...     $2.00\n",
      "3  SAVE $1.00 ON TWO when you buy TWO BOXES (8.9 ...     $1.00\n",
      "4  $3.00 OFF when you purchase any THREE (3) Pepp...     $3.00\n"
     ]
    }
   ],
   "source": [
    "df['FaceValue'] = df['OfferDetails'].map(FaceVal)\n",
    "print(df.head())"
   ]
  },
  {
   "cell_type": "markdown",
   "metadata": {},
   "source": [
    "### Exercise 2\n",
    "1. Write a function that takes OfferDetails as input, and returns Product as output (Product can be single or array)\n",
    "2. Run the function against all rows in the attached data and determine function accuracy (Higher the better)\n",
    "\n",
    "*Hint*: For Exercise 2, build a corpus of products (built manually) and go from there. Mention the order of complexity (in any measures Big O, memory, cpu etc.). For Exercise 2, our expectation is that you implement NER model"
   ]
  },
  {
   "cell_type": "code",
   "execution_count": 6,
   "metadata": {},
   "outputs": [],
   "source": [
    "# https://textblob.readthedocs.io/en/dev/\n",
    "def prod(txt):\n",
    "    '''\n",
    "    Textblob takes: O(N) run time complexity and O(vocab) run time space complexity\n",
    "    '''\n",
    "    txt = txt.lower()\n",
    "    txt = re.sub('packs','', txt)\n",
    "    txt = re.sub('trial','', txt)\n",
    "    txt = re.sub('travel','', txt)\n",
    "    txt = re.sub('size','', txt)\n",
    "    txt = re.sub('save','', txt)\n",
    "    txt = re.sub('excludes','', txt)  \n",
    "    blob = TextBlob(txt)\n",
    "    return [i.capitalize() for i in blob.noun_phrases]"
   ]
  },
  {
   "cell_type": "code",
   "execution_count": 7,
   "metadata": {},
   "outputs": [
    {
     "name": "stdout",
     "output_type": "stream",
     "text": [
      "Wall time: 9.9 s\n"
     ]
    }
   ],
   "source": [
    "%%time\n",
    "df['Products'] = df['OfferDetails'].map(prod)"
   ]
  },
  {
   "cell_type": "code",
   "execution_count": 8,
   "metadata": {
    "scrolled": false
   },
   "outputs": [
    {
     "name": "stdout",
     "output_type": "stream",
     "text": [
      "Sample Text:\n",
      "Save $2.00 ONE Downy Liquid Fabric Conditioner 72 ld or larger (includes Downy Odor Protect 48 oz or larger OR Downy Wrinkle Guard 40 oz or larger OR Downy Nature Blends 67 oz or larger) OR Bounce/Downy Sheets 130 ct or larger (includes Bounce/Downy Wrinkle Guard 80 ct or larger) OR In Wash Scent Boosters 8.6 oz or larger (includes Downy Unstopables, Fresh Protect, Odor Protect, and Infusions) (excludes Downy Libre Enjuague, Gain Fireworks, and trial/travel size).\n",
      "\n",
      "Products:\n",
      "['Downy liquid fabric conditioner', 'Downy odor', 'Downy wrinkle guard', 'Downy nature blends', 'Bounce/downy sheets', 'Bounce/downy wrinkle guard', 'Scent boosters', 'Downy unstopables', 'Downy libre enjuague', 'Gain fireworks']\n",
      "==================================================\n",
      "Sample Text:\n",
      "Save $1.00 on any TWO (2) Sargento® Natural Cheese Slices\n",
      "\n",
      "Products:\n",
      "['Natural cheese slices']\n",
      "==================================================\n",
      "Sample Text:\n",
      "$1.00 OFF on any THREE (3) noosa® yoghurts\n",
      "\n",
      "Products:\n",
      "['Noosa® yoghurts']\n",
      "==================================================\n",
      "Sample Text:\n",
      "SAVE $1.25 on any ONE (1) crunchy Crunchmaster® Crackers or Snacks\n",
      "\n",
      "Products:\n",
      "['Crunchy crunchmaster® crackers']\n",
      "==================================================\n",
      "Sample Text:\n",
      "Save $1.00 on Any ONE (1) BENADRYL® 20ct, 24ct or 4oz product (excludes topical, trial &amp; travel sizes)\n",
      "\n",
      "Products:\n",
      "['Benadryl® 20ct', '4oz product']\n",
      "==================================================\n",
      "Sample Text:\n",
      "Save $2.00 ONE Tampax Pearl, Radiant OR PURE Tampons (14 ct or higher).\n",
      "\n",
      "Products:\n",
      "['Tampax pearl', 'Pure tampons']\n",
      "==================================================\n",
      "Sample Text:\n",
      "Get $2.00 off any ONE (1) Bag of PULL-UPS® Training Pants (27 ct. or lower, not valid on trial packs)\n",
      "\n",
      "Products:\n",
      "['Pull-ups® training pants']\n",
      "==================================================\n",
      "Sample Text:\n",
      "Save $3.00 ONE (1) Nexium® 24HR 28ct or larger\n",
      "\n",
      "Products:\n",
      "['Nexium® 24hr 28ct']\n",
      "==================================================\n",
      "Sample Text:\n",
      "Get $3.00 off any ONE (1) Box of PULL-UPS® Training Pants (40 ct. or higher)\n",
      "\n",
      "Products:\n",
      "['Pull-ups® training pants']\n",
      "==================================================\n",
      "Sample Text:\n",
      "Save $3.00 off any ONE (1) Children's Claritin® Syrup 4oz or larger\n",
      "\n",
      "Products:\n",
      "[\"Children 's claritin® syrup 4oz\"]\n",
      "==================================================\n",
      "Sample Text:\n",
      "Save $5.00 on ONE (1) NUTRO™ WHOLESOME ESSENTIALS™ Dry Cat Food bag, any size\n",
      "\n",
      "Products:\n",
      "['Nutro™ wholesome essentials™ dry cat food bag']\n",
      "==================================================\n",
      "Sample Text:\n",
      "Save $0.75 ONE Burts Bees Kids Toothpaste (excludes trial/travel size).\n",
      "\n",
      "Products:\n",
      "['Burts bees kids toothpaste']\n",
      "==================================================\n",
      "Sample Text:\n",
      "FREE SEG MAC & CHEESE when you buy any two (2) SPAM® 12oz products and get TWO (2) FREE SEG MAC &amp; CHEESE (Max. Value $1.50)\n",
      "\n",
      "Products:\n",
      "['Free seg mac', 'Spam® 12oz products', 'Free seg mac', 'Value $']\n",
      "==================================================\n",
      "Sample Text:\n",
      "SAVE $0.50 ONE Tide Simply Laundry Detergent 34 oz OR 31 oz OR Tide Simply PODS 13 ct OR Downy Liquid Fabric Conditioner 40 ld OR Bounce/Downy Sheets 40 ct TO 60 ct OR In-Wash Scent Boosters 4.3 oz OR ERA Laundry Detergent 50 oz or smaller (includes Downy Unstopables, Fresh Protect, and Odor Protect) (excludes Bounce/Downy Wrinkle Guard Sheets, Downy Libre Enjuague, Gain Fireworks, and trial/travel size).\n",
      "\n",
      "Products:\n",
      "['Laundry detergent', 'Downy liquid fabric conditioner', 'Bounce/downy sheets', 'In-wash scent boosters', 'Era laundry detergent', 'Downy unstopables', 'Bounce/downy wrinkle guard sheets', 'Downy libre enjuague', 'Gain fireworks']\n",
      "==================================================\n",
      "Sample Text:\n",
      "$1.00 OFF on any THREE (3) noosa® yoghurts\n",
      "\n",
      "Products:\n",
      "['Noosa® yoghurts']\n",
      "==================================================\n"
     ]
    }
   ],
   "source": [
    "for i in range(0,100,7):\n",
    "    print('Sample Text:')\n",
    "    print(df['OfferDetails'][i])\n",
    "    print('\\nProducts:')\n",
    "    print(df['Products'][i])\n",
    "    print('='*50)"
   ]
  },
  {
   "cell_type": "markdown",
   "metadata": {},
   "source": [
    "### Comment: These sample results indicate that the Prod function is good enough for extracting list of Products from each text."
   ]
  }
 ],
 "metadata": {
  "kernelspec": {
   "display_name": "Python 3",
   "language": "python",
   "name": "python3"
  },
  "language_info": {
   "codemirror_mode": {
    "name": "ipython",
    "version": 3
   },
   "file_extension": ".py",
   "mimetype": "text/x-python",
   "name": "python",
   "nbconvert_exporter": "python",
   "pygments_lexer": "ipython3",
   "version": "3.6.5"
  }
 },
 "nbformat": 4,
 "nbformat_minor": 2
}
