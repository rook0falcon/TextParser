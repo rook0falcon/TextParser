{
 "cells": [
  {
   "cell_type": "markdown",
   "metadata": {},
   "source": [
    "**Data**\n",
    "\n",
    "Below represents sample coupon data for a retailer. Each column (tokenized value) is extracted from OfferDetails\n",
    "1. Product - Can be a single value or an array\n",
    "2. FaceValue - The savings on the offer , generally a number\n",
    "3. UOM - Unit of measure, represents the measuring unit for the product"
   ]
  },
  {
   "cell_type": "code",
   "execution_count": 1,
   "metadata": {},
   "outputs": [],
   "source": [
    "import pandas as pd\n",
    "import re\n",
    "import nltk\n",
    "import numpy as np"
   ]
  },
  {
   "cell_type": "code",
   "execution_count": 2,
   "metadata": {
    "scrolled": true
   },
   "outputs": [
    {
     "name": "stdout",
     "output_type": "stream",
     "text": [
      "(886, 1)\n"
     ]
    },
    {
     "data": {
      "text/html": [
       "<div>\n",
       "<style scoped>\n",
       "    .dataframe tbody tr th:only-of-type {\n",
       "        vertical-align: middle;\n",
       "    }\n",
       "\n",
       "    .dataframe tbody tr th {\n",
       "        vertical-align: top;\n",
       "    }\n",
       "\n",
       "    .dataframe thead th {\n",
       "        text-align: right;\n",
       "    }\n",
       "</style>\n",
       "<table border=\"1\" class=\"dataframe\">\n",
       "  <thead>\n",
       "    <tr style=\"text-align: right;\">\n",
       "      <th></th>\n",
       "      <th>OfferDetails</th>\n",
       "    </tr>\n",
       "  </thead>\n",
       "  <tbody>\n",
       "    <tr>\n",
       "      <th>0</th>\n",
       "      <td>Save $2.00 ONE Downy Liquid Fabric Conditioner...</td>\n",
       "    </tr>\n",
       "    <tr>\n",
       "      <th>1</th>\n",
       "      <td>Save $2.00 ONE Tide PODS OR Tide Power PODS (e...</td>\n",
       "    </tr>\n",
       "    <tr>\n",
       "      <th>2</th>\n",
       "      <td>Save $2.00 ONE Tide Laundry Detergent (exclude...</td>\n",
       "    </tr>\n",
       "    <tr>\n",
       "      <th>3</th>\n",
       "      <td>SAVE $1.00 ON TWO when you buy TWO BOXES (8.9 ...</td>\n",
       "    </tr>\n",
       "    <tr>\n",
       "      <th>4</th>\n",
       "      <td>$3.00 OFF when you purchase any THREE (3) Pepp...</td>\n",
       "    </tr>\n",
       "  </tbody>\n",
       "</table>\n",
       "</div>"
      ],
      "text/plain": [
       "                                        OfferDetails\n",
       "0  Save $2.00 ONE Downy Liquid Fabric Conditioner...\n",
       "1  Save $2.00 ONE Tide PODS OR Tide Power PODS (e...\n",
       "2  Save $2.00 ONE Tide Laundry Detergent (exclude...\n",
       "3  SAVE $1.00 ON TWO when you buy TWO BOXES (8.9 ...\n",
       "4  $3.00 OFF when you purchase any THREE (3) Pepp..."
      ]
     },
     "execution_count": 2,
     "metadata": {},
     "output_type": "execute_result"
    }
   ],
   "source": [
    "df = pd.read_csv('coupons_ner.csv', names = ['OfferDetails'])\n",
    "print(df.shape)\n",
    "df.head()"
   ]
  },
  {
   "cell_type": "markdown",
   "metadata": {},
   "source": [
    "**Exercise 1**\n",
    "\n",
    "1. Write a function that takes OfferDetails as input, and returns FaceValue as output\n",
    "2. Run the function against all rows in the attached data and determine function accuracy (Higher the better)\n",
    "\n",
    "*Hint*: For Exercise 1, regex function should do (ensure that all edge cases are taken care of)"
   ]
  },
  {
   "cell_type": "code",
   "execution_count": 3,
   "metadata": {},
   "outputs": [],
   "source": [
    "def FaceVal(x):\n",
    "    l = []\n",
    "    s = x.replace(',',' ').split()\n",
    "    for i in s:\n",
    "        if '$' in i or '¢' in i:\n",
    "            if '¢' in i:\n",
    "                n = i.split('¢')[0]\n",
    "                if n!= '':\n",
    "                    i = str(float(n)/100)\n",
    "                else: i = '0'\n",
    "            i = '.'.join(re.sub('[^A-Za-z0-9]+',' ',i).split())\n",
    "            l.append(i)\n",
    "    if len(l) == 0 or l==['']:\n",
    "        return ''\n",
    "    elif len(l)>=1:\n",
    "        temp = 0\n",
    "        for k in l:\n",
    "            if k !='':\n",
    "                temp+= float((k.split('$')[-1]))\n",
    "        if len(str(temp))==3:\n",
    "            return '$'+str(temp)+'0'\n",
    "        else:\n",
    "            return '$'+str(temp)"
   ]
  },
  {
   "cell_type": "code",
   "execution_count": 4,
   "metadata": {},
   "outputs": [
    {
     "name": "stdout",
     "output_type": "stream",
     "text": [
      " : \n",
      "--------------------------------------------------\n",
      "s : \n",
      "--------------------------------------------------\n",
      "s50 : \n",
      "--------------------------------------------------\n",
      "$$ : \n",
      "--------------------------------------------------\n",
      "¢¢ : $0.00\n",
      "--------------------------------------------------\n",
      "50$ : $50.0\n",
      "--------------------------------------------------\n",
      "¢¢50 : $0.00\n",
      "--------------------------------------------------\n",
      "$2.0 : $2.00\n",
      "--------------------------------------------------\n",
      "$2 50¢ : $2.50\n",
      "--------------------------------------------------\n",
      "$2 50 ¢ : $2.00\n",
      "--------------------------------------------------\n",
      "$2 50 50¢))) : $2.50\n",
      "--------------------------------------------------\n",
      "$2 50 50¢))) $$$$05,.m 50 150¢ : $9.00\n",
      "--------------------------------------------------\n"
     ]
    }
   ],
   "source": [
    "# Test cases\n",
    "c = ['','s', 's50','$$', '¢¢', '50$', '¢¢50', '$2.0','$2 50¢','$2 50 ¢','$2 50 50¢)))', '$2 50 50¢))) $$$$05,.m 50 150¢']\n",
    "for i in c:\n",
    "    print(i,':',FaceVal(i))\n",
    "    print('-'*50)"
   ]
  },
  {
   "cell_type": "markdown",
   "metadata": {},
   "source": [
    "Comment: These test cases indicate that the FaceVal function is good enough for extracting Face Value from each text."
   ]
  },
  {
   "cell_type": "code",
   "execution_count": 6,
   "metadata": {},
   "outputs": [
    {
     "name": "stdout",
     "output_type": "stream",
     "text": [
      "                                        OfferDetails FaceValue\n",
      "0  Save $2.00 ONE Downy Liquid Fabric Conditioner...     $2.00\n",
      "1  Save $2.00 ONE Tide PODS OR Tide Power PODS (e...     $2.00\n",
      "2  Save $2.00 ONE Tide Laundry Detergent (exclude...     $2.00\n",
      "3  SAVE $1.00 ON TWO when you buy TWO BOXES (8.9 ...     $1.00\n",
      "4  $3.00 OFF when you purchase any THREE (3) Pepp...     $3.00\n"
     ]
    }
   ],
   "source": [
    "df['FaceValue'] = df['OfferDetails'].map(FaceVal)\n",
    "print(df.head())"
   ]
  },
  {
   "cell_type": "markdown",
   "metadata": {},
   "source": [
    "**Exercise 2**\n",
    "1. Write a function that takes OfferDetails as input, and returns Product as output (Product can be single or array)\n",
    "2. Run the function against all rows in the attached data and determine function accuracy (Higher the better)\n",
    "\n",
    "*Hint*: For Exercise 2, build a corpus of products (built manually) and go from there. Mention the order of complexity (in any measures Big O, memory, cpu etc.). For Exercise 2, our expectation is that you implement NER model"
   ]
  }
 ],
 "metadata": {
  "kernelspec": {
   "display_name": "Python 3",
   "language": "python",
   "name": "python3"
  },
  "language_info": {
   "codemirror_mode": {
    "name": "ipython",
    "version": 3
   },
   "file_extension": ".py",
   "mimetype": "text/x-python",
   "name": "python",
   "nbconvert_exporter": "python",
   "pygments_lexer": "ipython3",
   "version": "3.6.5"
  }
 },
 "nbformat": 4,
 "nbformat_minor": 2
}
